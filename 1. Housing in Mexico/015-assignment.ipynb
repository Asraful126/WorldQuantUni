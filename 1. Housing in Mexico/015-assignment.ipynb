{
 "cells": [
  {
   "cell_type": "markdown",
   "id": "12d04077",
   "metadata": {},
   "source": [
    "# 1.5. Housing in Brazil 🇧🇷"
   ]
  },
  {
   "cell_type": "code",
   "execution_count": 5,
   "id": "bd0a5063",
   "metadata": {},
   "outputs": [],
   "source": [
    "# Import Matplotlib, pandas, and plotly\n",
    "import pandas as pd\n",
    "import matplotlib.pyplot as plt\n",
    "import plotly\n",
    "import openpyxl"
   ]
  },
  {
   "cell_type": "markdown",
   "id": "63198b3c",
   "metadata": {},
   "source": [
    "## Prepare Data"
   ]
  },
  {
   "cell_type": "markdown",
   "id": "04abf81b",
   "metadata": {},
   "source": [
    "In this assignment, you'll work with real estate data from Brazil. In the data directory for this project there are two CSV that you need to import and clean, one-by-one."
   ]
  },
  {
   "cell_type": "markdown",
   "id": "841cbb21",
   "metadata": {},
   "source": [
    "### Import data"
   ]
  },
  {
   "cell_type": "markdown",
   "id": "374b4cf2",
   "metadata": {},
   "source": [
    "**Task 1.5.1: Import the CSV file data/brasil-real-estate-1.csv into the DataFrame df1.**"
   ]
  },
  {
   "cell_type": "code",
   "execution_count": 6,
   "id": "0d2eab02",
   "metadata": {},
   "outputs": [
    {
     "data": {
      "text/html": [
       "<div>\n",
       "<style scoped>\n",
       "    .dataframe tbody tr th:only-of-type {\n",
       "        vertical-align: middle;\n",
       "    }\n",
       "\n",
       "    .dataframe tbody tr th {\n",
       "        vertical-align: top;\n",
       "    }\n",
       "\n",
       "    .dataframe thead th {\n",
       "        text-align: right;\n",
       "    }\n",
       "</style>\n",
       "<table border=\"1\" class=\"dataframe\">\n",
       "  <thead>\n",
       "    <tr style=\"text-align: right;\">\n",
       "      <th></th>\n",
       "      <th>Unnamed: 0</th>\n",
       "      <th>property_type</th>\n",
       "      <th>place_with_parent_names</th>\n",
       "      <th>region</th>\n",
       "      <th>lat-lon</th>\n",
       "      <th>area_m2</th>\n",
       "      <th>price_usd</th>\n",
       "    </tr>\n",
       "  </thead>\n",
       "  <tbody>\n",
       "    <tr>\n",
       "      <th>0</th>\n",
       "      <td>1</td>\n",
       "      <td>apartment</td>\n",
       "      <td>|Brasil|Alagoas|Maceió|</td>\n",
       "      <td>Northeast</td>\n",
       "      <td>-9.6443051,-35.7088142</td>\n",
       "      <td>110</td>\n",
       "      <td>187230.85</td>\n",
       "    </tr>\n",
       "    <tr>\n",
       "      <th>1</th>\n",
       "      <td>2</td>\n",
       "      <td>apartment</td>\n",
       "      <td>|Brasil|Alagoas|Maceió|</td>\n",
       "      <td>Northeast</td>\n",
       "      <td>-9.6430934,-35.70484</td>\n",
       "      <td>65</td>\n",
       "      <td>81133.37</td>\n",
       "    </tr>\n",
       "    <tr>\n",
       "      <th>2</th>\n",
       "      <td>3</td>\n",
       "      <td>house</td>\n",
       "      <td>|Brasil|Alagoas|Maceió|</td>\n",
       "      <td>Northeast</td>\n",
       "      <td>-9.6227033,-35.7297953</td>\n",
       "      <td>211</td>\n",
       "      <td>154465.45</td>\n",
       "    </tr>\n",
       "    <tr>\n",
       "      <th>3</th>\n",
       "      <td>4</td>\n",
       "      <td>apartment</td>\n",
       "      <td>|Brasil|Alagoas|Maceió|</td>\n",
       "      <td>Northeast</td>\n",
       "      <td>-9.622837,-35.719556</td>\n",
       "      <td>99</td>\n",
       "      <td>146013.20</td>\n",
       "    </tr>\n",
       "    <tr>\n",
       "      <th>4</th>\n",
       "      <td>5</td>\n",
       "      <td>apartment</td>\n",
       "      <td>|Brasil|Alagoas|Maceió|</td>\n",
       "      <td>Northeast</td>\n",
       "      <td>-9.654955,-35.700227</td>\n",
       "      <td>55</td>\n",
       "      <td>101416.71</td>\n",
       "    </tr>\n",
       "  </tbody>\n",
       "</table>\n",
       "</div>"
      ],
      "text/plain": [
       "   Unnamed: 0 property_type  place_with_parent_names     region  \\\n",
       "0           1     apartment  |Brasil|Alagoas|Maceió|  Northeast   \n",
       "1           2     apartment  |Brasil|Alagoas|Maceió|  Northeast   \n",
       "2           3         house  |Brasil|Alagoas|Maceió|  Northeast   \n",
       "3           4     apartment  |Brasil|Alagoas|Maceió|  Northeast   \n",
       "4           5     apartment  |Brasil|Alagoas|Maceió|  Northeast   \n",
       "\n",
       "                  lat-lon  area_m2  price_usd  \n",
       "0  -9.6443051,-35.7088142      110  187230.85  \n",
       "1    -9.6430934,-35.70484       65   81133.37  \n",
       "2  -9.6227033,-35.7297953      211  154465.45  \n",
       "3    -9.622837,-35.719556       99  146013.20  \n",
       "4    -9.654955,-35.700227       55  101416.71  "
      ]
     },
     "execution_count": 6,
     "metadata": {},
     "output_type": "execute_result"
    }
   ],
   "source": [
    "df = pd.read_excel('brasil-real-estate-1.xlsx')\n",
    "df.head()"
   ]
  },
  {
   "cell_type": "markdown",
   "id": "bdc1231a",
   "metadata": {},
   "source": [
    "**Task 1.5.2: Drop all rows with NaN values from the DataFrame df1.**"
   ]
  },
  {
   "cell_type": "code",
   "execution_count": 7,
   "id": "98752b9d",
   "metadata": {},
   "outputs": [
    {
     "data": {
      "text/plain": [
       "(12834, 7)"
      ]
     },
     "execution_count": 7,
     "metadata": {},
     "output_type": "execute_result"
    }
   ],
   "source": [
    "df.shape"
   ]
  },
  {
   "cell_type": "code",
   "execution_count": 8,
   "id": "b182fd5e",
   "metadata": {},
   "outputs": [],
   "source": [
    "df = df.dropna(axis='rows')"
   ]
  },
  {
   "cell_type": "code",
   "execution_count": 9,
   "id": "10460e1a",
   "metadata": {},
   "outputs": [
    {
     "data": {
      "text/plain": [
       "(11551, 7)"
      ]
     },
     "execution_count": 9,
     "metadata": {},
     "output_type": "execute_result"
    }
   ],
   "source": [
    "df.shape"
   ]
  },
  {
   "cell_type": "markdown",
   "id": "90205cd2",
   "metadata": {},
   "source": [
    "**Task 1.5.3: Use the \"lat-lon\" column to create two separate columns in df1: \"lat\" and \"lon\". Make sure that the data type for these new columns is float.**"
   ]
  },
  {
   "cell_type": "code",
   "execution_count": 10,
   "id": "e6dddf07",
   "metadata": {},
   "outputs": [
    {
     "name": "stderr",
     "output_type": "stream",
     "text": [
      "C:\\Users\\Asraful Islam\\AppData\\Local\\Temp\\ipykernel_9860\\1193995130.py:2: SettingWithCopyWarning: \n",
      "A value is trying to be set on a copy of a slice from a DataFrame.\n",
      "Try using .loc[row_indexer,col_indexer] = value instead\n",
      "\n",
      "See the caveats in the documentation: https://pandas.pydata.org/pandas-docs/stable/user_guide/indexing.html#returning-a-view-versus-a-copy\n",
      "  df[['lat', 'lon']] = df['lat-lon'].str.split(',', expand=True).astype(float)\n",
      "C:\\Users\\Asraful Islam\\AppData\\Local\\Temp\\ipykernel_9860\\1193995130.py:2: SettingWithCopyWarning: \n",
      "A value is trying to be set on a copy of a slice from a DataFrame.\n",
      "Try using .loc[row_indexer,col_indexer] = value instead\n",
      "\n",
      "See the caveats in the documentation: https://pandas.pydata.org/pandas-docs/stable/user_guide/indexing.html#returning-a-view-versus-a-copy\n",
      "  df[['lat', 'lon']] = df['lat-lon'].str.split(',', expand=True).astype(float)\n"
     ]
    }
   ],
   "source": [
    "# split col [lat-lon] into [lat] & [lon]\n",
    "df[['lat', 'lon']] = df['lat-lon'].str.split(',', expand=True).astype(float)"
   ]
  },
  {
   "cell_type": "code",
   "execution_count": 12,
   "id": "b9db56bf",
   "metadata": {},
   "outputs": [],
   "source": [
    "df = df.drop(columns='lat-lon', axis='columns')"
   ]
  },
  {
   "cell_type": "code",
   "execution_count": 13,
   "id": "0fd12f90",
   "metadata": {},
   "outputs": [
    {
     "data": {
      "text/html": [
       "<div>\n",
       "<style scoped>\n",
       "    .dataframe tbody tr th:only-of-type {\n",
       "        vertical-align: middle;\n",
       "    }\n",
       "\n",
       "    .dataframe tbody tr th {\n",
       "        vertical-align: top;\n",
       "    }\n",
       "\n",
       "    .dataframe thead th {\n",
       "        text-align: right;\n",
       "    }\n",
       "</style>\n",
       "<table border=\"1\" class=\"dataframe\">\n",
       "  <thead>\n",
       "    <tr style=\"text-align: right;\">\n",
       "      <th></th>\n",
       "      <th>Unnamed: 0</th>\n",
       "      <th>property_type</th>\n",
       "      <th>place_with_parent_names</th>\n",
       "      <th>region</th>\n",
       "      <th>area_m2</th>\n",
       "      <th>price_usd</th>\n",
       "      <th>lat</th>\n",
       "      <th>lon</th>\n",
       "    </tr>\n",
       "  </thead>\n",
       "  <tbody>\n",
       "    <tr>\n",
       "      <th>0</th>\n",
       "      <td>1</td>\n",
       "      <td>apartment</td>\n",
       "      <td>|Brasil|Alagoas|Maceió|</td>\n",
       "      <td>Northeast</td>\n",
       "      <td>110</td>\n",
       "      <td>187230.85</td>\n",
       "      <td>-9.644305</td>\n",
       "      <td>-35.708814</td>\n",
       "    </tr>\n",
       "    <tr>\n",
       "      <th>1</th>\n",
       "      <td>2</td>\n",
       "      <td>apartment</td>\n",
       "      <td>|Brasil|Alagoas|Maceió|</td>\n",
       "      <td>Northeast</td>\n",
       "      <td>65</td>\n",
       "      <td>81133.37</td>\n",
       "      <td>-9.643093</td>\n",
       "      <td>-35.704840</td>\n",
       "    </tr>\n",
       "    <tr>\n",
       "      <th>2</th>\n",
       "      <td>3</td>\n",
       "      <td>house</td>\n",
       "      <td>|Brasil|Alagoas|Maceió|</td>\n",
       "      <td>Northeast</td>\n",
       "      <td>211</td>\n",
       "      <td>154465.45</td>\n",
       "      <td>-9.622703</td>\n",
       "      <td>-35.729795</td>\n",
       "    </tr>\n",
       "    <tr>\n",
       "      <th>3</th>\n",
       "      <td>4</td>\n",
       "      <td>apartment</td>\n",
       "      <td>|Brasil|Alagoas|Maceió|</td>\n",
       "      <td>Northeast</td>\n",
       "      <td>99</td>\n",
       "      <td>146013.20</td>\n",
       "      <td>-9.622837</td>\n",
       "      <td>-35.719556</td>\n",
       "    </tr>\n",
       "    <tr>\n",
       "      <th>4</th>\n",
       "      <td>5</td>\n",
       "      <td>apartment</td>\n",
       "      <td>|Brasil|Alagoas|Maceió|</td>\n",
       "      <td>Northeast</td>\n",
       "      <td>55</td>\n",
       "      <td>101416.71</td>\n",
       "      <td>-9.654955</td>\n",
       "      <td>-35.700227</td>\n",
       "    </tr>\n",
       "  </tbody>\n",
       "</table>\n",
       "</div>"
      ],
      "text/plain": [
       "   Unnamed: 0 property_type  place_with_parent_names     region  area_m2  \\\n",
       "0           1     apartment  |Brasil|Alagoas|Maceió|  Northeast      110   \n",
       "1           2     apartment  |Brasil|Alagoas|Maceió|  Northeast       65   \n",
       "2           3         house  |Brasil|Alagoas|Maceió|  Northeast      211   \n",
       "3           4     apartment  |Brasil|Alagoas|Maceió|  Northeast       99   \n",
       "4           5     apartment  |Brasil|Alagoas|Maceió|  Northeast       55   \n",
       "\n",
       "   price_usd       lat        lon  \n",
       "0  187230.85 -9.644305 -35.708814  \n",
       "1   81133.37 -9.643093 -35.704840  \n",
       "2  154465.45 -9.622703 -35.729795  \n",
       "3  146013.20 -9.622837 -35.719556  \n",
       "4  101416.71 -9.654955 -35.700227  "
      ]
     },
     "execution_count": 13,
     "metadata": {},
     "output_type": "execute_result"
    }
   ],
   "source": [
    "df.head()"
   ]
  },
  {
   "cell_type": "markdown",
   "id": "185de957",
   "metadata": {},
   "source": [
    "**Task 1.5.4: Use the \"place_with_parent_names\" column to create a \"state\" column for df1. (Note that the state name always appears after \"|Brasil|\" in each string.)**"
   ]
  },
  {
   "cell_type": "code",
   "execution_count": 16,
   "id": "fdbb3798",
   "metadata": {},
   "outputs": [],
   "source": [
    "df['state'] = df.place_with_parent_names.str.split('|', expand=True)[2]"
   ]
  },
  {
   "cell_type": "code",
   "execution_count": 17,
   "id": "1bd344ae",
   "metadata": {},
   "outputs": [
    {
     "name": "stderr",
     "output_type": "stream",
     "text": [
      "C:\\Users\\Asraful Islam\\AppData\\Local\\Temp\\ipykernel_9860\\1071296700.py:1: FutureWarning: The behavior of `series[i:j]` with an integer-dtype index is deprecated. In a future version, this will be treated as *label-based* indexing, consistent with e.g. `series[i]` lookups. To retain the old behavior, use `series.iloc[i:j]`. To get the future behavior, use `series.loc[i:j]`.\n",
      "  df['state'][0:10]\n"
     ]
    },
    {
     "data": {
      "text/plain": [
       "0     Alagoas\n",
       "1     Alagoas\n",
       "2     Alagoas\n",
       "3     Alagoas\n",
       "4     Alagoas\n",
       "5     Alagoas\n",
       "6     Alagoas\n",
       "7     Alagoas\n",
       "9     Alagoas\n",
       "10    Alagoas\n",
       "Name: state, dtype: object"
      ]
     },
     "execution_count": 17,
     "metadata": {},
     "output_type": "execute_result"
    }
   ],
   "source": [
    "df['state'][0:10]"
   ]
  },
  {
   "cell_type": "markdown",
   "id": "136c93a5",
   "metadata": {},
   "source": [
    "**Task 1.5.5: Transform the \"price_usd\" column of df1 so that all values are floating-point numbers instead of strings.**"
   ]
  },
  {
   "cell_type": "code",
   "execution_count": 18,
   "id": "e35df2a7",
   "metadata": {},
   "outputs": [],
   "source": [
    "df['price_usd'] = df['price_usd'].replace(['$', ','], '')"
   ]
  },
  {
   "cell_type": "code",
   "execution_count": 20,
   "id": "63f8749d",
   "metadata": {},
   "outputs": [],
   "source": [
    "df['price_usd'] = pd.to_numeric(df['price_usd'])"
   ]
  },
  {
   "cell_type": "code",
   "execution_count": 22,
   "id": "427ec142",
   "metadata": {},
   "outputs": [
    {
     "name": "stderr",
     "output_type": "stream",
     "text": [
      "C:\\Users\\Asraful Islam\\AppData\\Local\\Temp\\ipykernel_9860\\1819147476.py:1: FutureWarning: The behavior of `series[i:j]` with an integer-dtype index is deprecated. In a future version, this will be treated as *label-based* indexing, consistent with e.g. `series[i]` lookups. To retain the old behavior, use `series.iloc[i:j]`. To get the future behavior, use `series.loc[i:j]`.\n",
      "  df['price_usd'][0:10]\n"
     ]
    },
    {
     "data": {
      "text/plain": [
       "0     187230.85\n",
       "1      81133.37\n",
       "2     154465.45\n",
       "3     146013.20\n",
       "4     101416.71\n",
       "5      75727.07\n",
       "6     110916.18\n",
       "7     249641.14\n",
       "9     115459.02\n",
       "10    361979.65\n",
       "Name: price_usd, dtype: float64"
      ]
     },
     "execution_count": 22,
     "metadata": {},
     "output_type": "execute_result"
    }
   ],
   "source": [
    "df['price_usd'][0:10]"
   ]
  },
  {
   "cell_type": "markdown",
   "id": "7fb88e31",
   "metadata": {},
   "source": [
    "**Task 1.5.6: Drop the \"lat-lon\" and \"place_with_parent_names\" columns from df1.**"
   ]
  },
  {
   "cell_type": "code",
   "execution_count": 24,
   "id": "fa38567d",
   "metadata": {},
   "outputs": [],
   "source": [
    "df.drop([\"place_with_parent_names\"], axis='columns', inplace=True)"
   ]
  },
  {
   "cell_type": "markdown",
   "id": "a4c5c44b",
   "metadata": {},
   "source": [
    "**Task 1.5.7: Import the CSV file brasil-real-estate-2.csv into the DataFrame df1**"
   ]
  },
  {
   "cell_type": "code",
   "execution_count": 25,
   "id": "491e6376",
   "metadata": {},
   "outputs": [],
   "source": [
    "df1 = pd.read_excel('brasil-real-estate-2.xlsx')"
   ]
  },
  {
   "cell_type": "code",
   "execution_count": 26,
   "id": "e42483a8",
   "metadata": {},
   "outputs": [
    {
     "data": {
      "text/html": [
       "<div>\n",
       "<style scoped>\n",
       "    .dataframe tbody tr th:only-of-type {\n",
       "        vertical-align: middle;\n",
       "    }\n",
       "\n",
       "    .dataframe tbody tr th {\n",
       "        vertical-align: top;\n",
       "    }\n",
       "\n",
       "    .dataframe thead th {\n",
       "        text-align: right;\n",
       "    }\n",
       "</style>\n",
       "<table border=\"1\" class=\"dataframe\">\n",
       "  <thead>\n",
       "    <tr style=\"text-align: right;\">\n",
       "      <th></th>\n",
       "      <th>Unnamed: 0</th>\n",
       "      <th>property_type</th>\n",
       "      <th>state</th>\n",
       "      <th>region</th>\n",
       "      <th>lat</th>\n",
       "      <th>lon</th>\n",
       "      <th>area_m2</th>\n",
       "      <th>price_brl</th>\n",
       "    </tr>\n",
       "  </thead>\n",
       "  <tbody>\n",
       "    <tr>\n",
       "      <th>0</th>\n",
       "      <td>1</td>\n",
       "      <td>apartment</td>\n",
       "      <td>Pernambuco</td>\n",
       "      <td>Northeast</td>\n",
       "      <td>-8.134204</td>\n",
       "      <td>-34.906326</td>\n",
       "      <td>72.0</td>\n",
       "      <td>414222.98</td>\n",
       "    </tr>\n",
       "    <tr>\n",
       "      <th>1</th>\n",
       "      <td>2</td>\n",
       "      <td>apartment</td>\n",
       "      <td>Pernambuco</td>\n",
       "      <td>Northeast</td>\n",
       "      <td>-8.126664</td>\n",
       "      <td>-34.903924</td>\n",
       "      <td>136.0</td>\n",
       "      <td>848408.53</td>\n",
       "    </tr>\n",
       "    <tr>\n",
       "      <th>2</th>\n",
       "      <td>3</td>\n",
       "      <td>apartment</td>\n",
       "      <td>Pernambuco</td>\n",
       "      <td>Northeast</td>\n",
       "      <td>-8.125550</td>\n",
       "      <td>-34.907601</td>\n",
       "      <td>75.0</td>\n",
       "      <td>299438.28</td>\n",
       "    </tr>\n",
       "    <tr>\n",
       "      <th>3</th>\n",
       "      <td>4</td>\n",
       "      <td>apartment</td>\n",
       "      <td>Pernambuco</td>\n",
       "      <td>Northeast</td>\n",
       "      <td>-8.120249</td>\n",
       "      <td>-34.895920</td>\n",
       "      <td>187.0</td>\n",
       "      <td>848408.53</td>\n",
       "    </tr>\n",
       "    <tr>\n",
       "      <th>4</th>\n",
       "      <td>5</td>\n",
       "      <td>apartment</td>\n",
       "      <td>Pernambuco</td>\n",
       "      <td>Northeast</td>\n",
       "      <td>-8.142666</td>\n",
       "      <td>-34.906906</td>\n",
       "      <td>80.0</td>\n",
       "      <td>464129.36</td>\n",
       "    </tr>\n",
       "  </tbody>\n",
       "</table>\n",
       "</div>"
      ],
      "text/plain": [
       "   Unnamed: 0 property_type       state     region       lat        lon  \\\n",
       "0           1     apartment  Pernambuco  Northeast -8.134204 -34.906326   \n",
       "1           2     apartment  Pernambuco  Northeast -8.126664 -34.903924   \n",
       "2           3     apartment  Pernambuco  Northeast -8.125550 -34.907601   \n",
       "3           4     apartment  Pernambuco  Northeast -8.120249 -34.895920   \n",
       "4           5     apartment  Pernambuco  Northeast -8.142666 -34.906906   \n",
       "\n",
       "   area_m2  price_brl  \n",
       "0     72.0  414222.98  \n",
       "1    136.0  848408.53  \n",
       "2     75.0  299438.28  \n",
       "3    187.0  848408.53  \n",
       "4     80.0  464129.36  "
      ]
     },
     "execution_count": 26,
     "metadata": {},
     "output_type": "execute_result"
    }
   ],
   "source": [
    "df1.head()"
   ]
  },
  {
   "cell_type": "markdown",
   "id": "27d97d34",
   "metadata": {},
   "source": [
    "**Task 1.5.8: Use the \"price_brl\" column to create a new column named \"price_usd\". (Keep in mind that, when this data was collected in 2015 and 2016, a US dollar cost 3.19 Brazilian reals.)**"
   ]
  },
  {
   "cell_type": "code",
   "execution_count": 27,
   "id": "e207ddf4",
   "metadata": {},
   "outputs": [],
   "source": [
    "df1['price_usd'] = df1.price_brl.transform(lambda x: x/3.19)"
   ]
  },
  {
   "cell_type": "markdown",
   "id": "8b4f9c5a",
   "metadata": {},
   "source": [
    "**Task 1.5.9: Drop the \"price_brl\" column from df2, as well as any rows that have NaN values.**"
   ]
  },
  {
   "cell_type": "code",
   "execution_count": 28,
   "id": "bea4414f",
   "metadata": {},
   "outputs": [],
   "source": [
    "df1.drop('price_brl', axis='columns', inplace=True)"
   ]
  },
  {
   "cell_type": "code",
   "execution_count": 29,
   "id": "8190d368",
   "metadata": {},
   "outputs": [
    {
     "data": {
      "text/plain": [
       "Unnamed: 0          0\n",
       "property_type       0\n",
       "state               0\n",
       "region              0\n",
       "lat                 0\n",
       "lon                 0\n",
       "area_m2          1540\n",
       "price_usd           0\n",
       "dtype: int64"
      ]
     },
     "execution_count": 29,
     "metadata": {},
     "output_type": "execute_result"
    }
   ],
   "source": [
    "df1.isnull().sum()"
   ]
  },
  {
   "cell_type": "code",
   "execution_count": 30,
   "id": "53bd4a06",
   "metadata": {},
   "outputs": [],
   "source": [
    "df1.dropna(how='any', inplace=True)"
   ]
  },
  {
   "cell_type": "markdown",
   "id": "b089a856",
   "metadata": {},
   "source": [
    "**Task 1.5.10: Concatenate df1 and df2 to create a new DataFrame named df.**"
   ]
  },
  {
   "cell_type": "code",
   "execution_count": 33,
   "id": "a0c74dab",
   "metadata": {},
   "outputs": [
    {
     "data": {
      "text/html": [
       "<div>\n",
       "<style scoped>\n",
       "    .dataframe tbody tr th:only-of-type {\n",
       "        vertical-align: middle;\n",
       "    }\n",
       "\n",
       "    .dataframe tbody tr th {\n",
       "        vertical-align: top;\n",
       "    }\n",
       "\n",
       "    .dataframe thead th {\n",
       "        text-align: right;\n",
       "    }\n",
       "</style>\n",
       "<table border=\"1\" class=\"dataframe\">\n",
       "  <thead>\n",
       "    <tr style=\"text-align: right;\">\n",
       "      <th></th>\n",
       "      <th>Unnamed: 0</th>\n",
       "      <th>property_type</th>\n",
       "      <th>region</th>\n",
       "      <th>area_m2</th>\n",
       "      <th>price_usd</th>\n",
       "      <th>lat</th>\n",
       "      <th>lon</th>\n",
       "      <th>state</th>\n",
       "    </tr>\n",
       "  </thead>\n",
       "  <tbody>\n",
       "    <tr>\n",
       "      <th>0</th>\n",
       "      <td>1</td>\n",
       "      <td>apartment</td>\n",
       "      <td>Northeast</td>\n",
       "      <td>110</td>\n",
       "      <td>187230.85</td>\n",
       "      <td>-9.644305</td>\n",
       "      <td>-35.708814</td>\n",
       "      <td>Alagoas</td>\n",
       "    </tr>\n",
       "    <tr>\n",
       "      <th>1</th>\n",
       "      <td>2</td>\n",
       "      <td>apartment</td>\n",
       "      <td>Northeast</td>\n",
       "      <td>65</td>\n",
       "      <td>81133.37</td>\n",
       "      <td>-9.643093</td>\n",
       "      <td>-35.704840</td>\n",
       "      <td>Alagoas</td>\n",
       "    </tr>\n",
       "    <tr>\n",
       "      <th>2</th>\n",
       "      <td>3</td>\n",
       "      <td>house</td>\n",
       "      <td>Northeast</td>\n",
       "      <td>211</td>\n",
       "      <td>154465.45</td>\n",
       "      <td>-9.622703</td>\n",
       "      <td>-35.729795</td>\n",
       "      <td>Alagoas</td>\n",
       "    </tr>\n",
       "    <tr>\n",
       "      <th>3</th>\n",
       "      <td>4</td>\n",
       "      <td>apartment</td>\n",
       "      <td>Northeast</td>\n",
       "      <td>99</td>\n",
       "      <td>146013.20</td>\n",
       "      <td>-9.622837</td>\n",
       "      <td>-35.719556</td>\n",
       "      <td>Alagoas</td>\n",
       "    </tr>\n",
       "    <tr>\n",
       "      <th>4</th>\n",
       "      <td>5</td>\n",
       "      <td>apartment</td>\n",
       "      <td>Northeast</td>\n",
       "      <td>55</td>\n",
       "      <td>101416.71</td>\n",
       "      <td>-9.654955</td>\n",
       "      <td>-35.700227</td>\n",
       "      <td>Alagoas</td>\n",
       "    </tr>\n",
       "  </tbody>\n",
       "</table>\n",
       "</div>"
      ],
      "text/plain": [
       "   Unnamed: 0 property_type     region  area_m2  price_usd       lat  \\\n",
       "0           1     apartment  Northeast      110  187230.85 -9.644305   \n",
       "1           2     apartment  Northeast       65   81133.37 -9.643093   \n",
       "2           3         house  Northeast      211  154465.45 -9.622703   \n",
       "3           4     apartment  Northeast       99  146013.20 -9.622837   \n",
       "4           5     apartment  Northeast       55  101416.71 -9.654955   \n",
       "\n",
       "         lon    state  \n",
       "0 -35.708814  Alagoas  \n",
       "1 -35.704840  Alagoas  \n",
       "2 -35.729795  Alagoas  \n",
       "3 -35.719556  Alagoas  \n",
       "4 -35.700227  Alagoas  "
      ]
     },
     "execution_count": 33,
     "metadata": {},
     "output_type": "execute_result"
    }
   ],
   "source": [
    "df.head()"
   ]
  },
  {
   "cell_type": "code",
   "execution_count": 34,
   "id": "0a3505eb",
   "metadata": {},
   "outputs": [
    {
     "data": {
      "text/html": [
       "<div>\n",
       "<style scoped>\n",
       "    .dataframe tbody tr th:only-of-type {\n",
       "        vertical-align: middle;\n",
       "    }\n",
       "\n",
       "    .dataframe tbody tr th {\n",
       "        vertical-align: top;\n",
       "    }\n",
       "\n",
       "    .dataframe thead th {\n",
       "        text-align: right;\n",
       "    }\n",
       "</style>\n",
       "<table border=\"1\" class=\"dataframe\">\n",
       "  <thead>\n",
       "    <tr style=\"text-align: right;\">\n",
       "      <th></th>\n",
       "      <th>Unnamed: 0</th>\n",
       "      <th>property_type</th>\n",
       "      <th>state</th>\n",
       "      <th>region</th>\n",
       "      <th>lat</th>\n",
       "      <th>lon</th>\n",
       "      <th>area_m2</th>\n",
       "      <th>price_usd</th>\n",
       "    </tr>\n",
       "  </thead>\n",
       "  <tbody>\n",
       "    <tr>\n",
       "      <th>0</th>\n",
       "      <td>1</td>\n",
       "      <td>apartment</td>\n",
       "      <td>Pernambuco</td>\n",
       "      <td>Northeast</td>\n",
       "      <td>-8.134204</td>\n",
       "      <td>-34.906326</td>\n",
       "      <td>72.0</td>\n",
       "      <td>129850.463950</td>\n",
       "    </tr>\n",
       "    <tr>\n",
       "      <th>1</th>\n",
       "      <td>2</td>\n",
       "      <td>apartment</td>\n",
       "      <td>Pernambuco</td>\n",
       "      <td>Northeast</td>\n",
       "      <td>-8.126664</td>\n",
       "      <td>-34.903924</td>\n",
       "      <td>136.0</td>\n",
       "      <td>265958.786834</td>\n",
       "    </tr>\n",
       "    <tr>\n",
       "      <th>2</th>\n",
       "      <td>3</td>\n",
       "      <td>apartment</td>\n",
       "      <td>Pernambuco</td>\n",
       "      <td>Northeast</td>\n",
       "      <td>-8.125550</td>\n",
       "      <td>-34.907601</td>\n",
       "      <td>75.0</td>\n",
       "      <td>93867.799373</td>\n",
       "    </tr>\n",
       "    <tr>\n",
       "      <th>3</th>\n",
       "      <td>4</td>\n",
       "      <td>apartment</td>\n",
       "      <td>Pernambuco</td>\n",
       "      <td>Northeast</td>\n",
       "      <td>-8.120249</td>\n",
       "      <td>-34.895920</td>\n",
       "      <td>187.0</td>\n",
       "      <td>265958.786834</td>\n",
       "    </tr>\n",
       "    <tr>\n",
       "      <th>4</th>\n",
       "      <td>5</td>\n",
       "      <td>apartment</td>\n",
       "      <td>Pernambuco</td>\n",
       "      <td>Northeast</td>\n",
       "      <td>-8.142666</td>\n",
       "      <td>-34.906906</td>\n",
       "      <td>80.0</td>\n",
       "      <td>145495.097179</td>\n",
       "    </tr>\n",
       "  </tbody>\n",
       "</table>\n",
       "</div>"
      ],
      "text/plain": [
       "   Unnamed: 0 property_type       state     region       lat        lon  \\\n",
       "0           1     apartment  Pernambuco  Northeast -8.134204 -34.906326   \n",
       "1           2     apartment  Pernambuco  Northeast -8.126664 -34.903924   \n",
       "2           3     apartment  Pernambuco  Northeast -8.125550 -34.907601   \n",
       "3           4     apartment  Pernambuco  Northeast -8.120249 -34.895920   \n",
       "4           5     apartment  Pernambuco  Northeast -8.142666 -34.906906   \n",
       "\n",
       "   area_m2      price_usd  \n",
       "0     72.0  129850.463950  \n",
       "1    136.0  265958.786834  \n",
       "2     75.0   93867.799373  \n",
       "3    187.0  265958.786834  \n",
       "4     80.0  145495.097179  "
      ]
     },
     "execution_count": 34,
     "metadata": {},
     "output_type": "execute_result"
    }
   ],
   "source": [
    "df1.head()"
   ]
  },
  {
   "cell_type": "code",
   "execution_count": 32,
   "id": "a316ae8f",
   "metadata": {},
   "outputs": [
    {
     "name": "stdout",
     "output_type": "stream",
     "text": [
      "df shape: (22844, 8)\n"
     ]
    }
   ],
   "source": [
    "frame = [df, df1]\n",
    "data = pd.concat(frame)\n",
    "print(\"df shape:\", data.shape)"
   ]
  },
  {
   "cell_type": "code",
   "execution_count": 35,
   "id": "94908d3c",
   "metadata": {},
   "outputs": [
    {
     "data": {
      "text/html": [
       "<div>\n",
       "<style scoped>\n",
       "    .dataframe tbody tr th:only-of-type {\n",
       "        vertical-align: middle;\n",
       "    }\n",
       "\n",
       "    .dataframe tbody tr th {\n",
       "        vertical-align: top;\n",
       "    }\n",
       "\n",
       "    .dataframe thead th {\n",
       "        text-align: right;\n",
       "    }\n",
       "</style>\n",
       "<table border=\"1\" class=\"dataframe\">\n",
       "  <thead>\n",
       "    <tr style=\"text-align: right;\">\n",
       "      <th></th>\n",
       "      <th>Unnamed: 0</th>\n",
       "      <th>property_type</th>\n",
       "      <th>region</th>\n",
       "      <th>area_m2</th>\n",
       "      <th>price_usd</th>\n",
       "      <th>lat</th>\n",
       "      <th>lon</th>\n",
       "      <th>state</th>\n",
       "    </tr>\n",
       "  </thead>\n",
       "  <tbody>\n",
       "    <tr>\n",
       "      <th>0</th>\n",
       "      <td>1</td>\n",
       "      <td>apartment</td>\n",
       "      <td>Northeast</td>\n",
       "      <td>110.0</td>\n",
       "      <td>187230.85</td>\n",
       "      <td>-9.644305</td>\n",
       "      <td>-35.708814</td>\n",
       "      <td>Alagoas</td>\n",
       "    </tr>\n",
       "    <tr>\n",
       "      <th>1</th>\n",
       "      <td>2</td>\n",
       "      <td>apartment</td>\n",
       "      <td>Northeast</td>\n",
       "      <td>65.0</td>\n",
       "      <td>81133.37</td>\n",
       "      <td>-9.643093</td>\n",
       "      <td>-35.704840</td>\n",
       "      <td>Alagoas</td>\n",
       "    </tr>\n",
       "    <tr>\n",
       "      <th>2</th>\n",
       "      <td>3</td>\n",
       "      <td>house</td>\n",
       "      <td>Northeast</td>\n",
       "      <td>211.0</td>\n",
       "      <td>154465.45</td>\n",
       "      <td>-9.622703</td>\n",
       "      <td>-35.729795</td>\n",
       "      <td>Alagoas</td>\n",
       "    </tr>\n",
       "    <tr>\n",
       "      <th>3</th>\n",
       "      <td>4</td>\n",
       "      <td>apartment</td>\n",
       "      <td>Northeast</td>\n",
       "      <td>99.0</td>\n",
       "      <td>146013.20</td>\n",
       "      <td>-9.622837</td>\n",
       "      <td>-35.719556</td>\n",
       "      <td>Alagoas</td>\n",
       "    </tr>\n",
       "    <tr>\n",
       "      <th>4</th>\n",
       "      <td>5</td>\n",
       "      <td>apartment</td>\n",
       "      <td>Northeast</td>\n",
       "      <td>55.0</td>\n",
       "      <td>101416.71</td>\n",
       "      <td>-9.654955</td>\n",
       "      <td>-35.700227</td>\n",
       "      <td>Alagoas</td>\n",
       "    </tr>\n",
       "  </tbody>\n",
       "</table>\n",
       "</div>"
      ],
      "text/plain": [
       "   Unnamed: 0 property_type     region  area_m2  price_usd       lat  \\\n",
       "0           1     apartment  Northeast    110.0  187230.85 -9.644305   \n",
       "1           2     apartment  Northeast     65.0   81133.37 -9.643093   \n",
       "2           3         house  Northeast    211.0  154465.45 -9.622703   \n",
       "3           4     apartment  Northeast     99.0  146013.20 -9.622837   \n",
       "4           5     apartment  Northeast     55.0  101416.71 -9.654955   \n",
       "\n",
       "         lon    state  \n",
       "0 -35.708814  Alagoas  \n",
       "1 -35.704840  Alagoas  \n",
       "2 -35.729795  Alagoas  \n",
       "3 -35.719556  Alagoas  \n",
       "4 -35.700227  Alagoas  "
      ]
     },
     "execution_count": 35,
     "metadata": {},
     "output_type": "execute_result"
    }
   ],
   "source": [
    "data.head()"
   ]
  },
  {
   "cell_type": "code",
   "execution_count": null,
   "id": "f97079b7",
   "metadata": {},
   "outputs": [],
   "source": []
  }
 ],
 "metadata": {
  "kernelspec": {
   "display_name": "Python 3 (ipykernel)",
   "language": "python",
   "name": "python3"
  },
  "language_info": {
   "codemirror_mode": {
    "name": "ipython",
    "version": 3
   },
   "file_extension": ".py",
   "mimetype": "text/x-python",
   "name": "python",
   "nbconvert_exporter": "python",
   "pygments_lexer": "ipython3",
   "version": "3.10.6"
  }
 },
 "nbformat": 4,
 "nbformat_minor": 5
}
